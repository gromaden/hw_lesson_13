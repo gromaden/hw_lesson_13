{
 "cells": [
  {
   "cell_type": "code",
   "execution_count": null,
   "metadata": {},
   "outputs": [],
   "source": [
    "# Create add method to add two countries together.\n",
    "# This method should create another country object with the name of the two countries combined and the population of the two countries added together."
   ]
  },
  {
   "cell_type": "code",
   "execution_count": 2,
   "metadata": {},
   "outputs": [],
   "source": [
    "class Country:\n",
    "    \n",
    "    def __init__(self, name, population):\n",
    "        self.name = name\n",
    "        self.population = population\n",
    "        \n",
    "    def add(self, other_country):\n",
    "        new_name = self.name + \" \" + other_country.name\n",
    "        new_population = self.population + other_country.population\n",
    "        new_country = Country(new_name, new_population)\n",
    "        return new_country"
   ]
  },
  {
   "cell_type": "code",
   "execution_count": 4,
   "metadata": {},
   "outputs": [
    {
     "name": "stdout",
     "output_type": "stream",
     "text": [
      "Bosnia Herzegovina\n",
      "15000000\n"
     ]
    }
   ],
   "source": [
    "bosnia = Country('Bosnia', 10000000)\n",
    "herzegovina = Country('Herzegovina', 5000000)\n",
    "\n",
    "bosnia_herzegovina = bosnia.add(herzegovina)\n",
    "\n",
    "print(bosnia_herzegovina.name)\n",
    "print(bosnia_herzegovina.population)"
   ]
  },
  {
   "cell_type": "code",
   "execution_count": null,
   "metadata": {},
   "outputs": [],
   "source": [
    "#  Implement the previous method with a magic method."
   ]
  },
  {
   "cell_type": "code",
   "execution_count": 5,
   "metadata": {},
   "outputs": [],
   "source": [
    "class Country:\n",
    "    \n",
    "    def __init__(self, name, population):\n",
    "        self.name = name\n",
    "        self.population = population\n",
    "        \n",
    "    def __add__(self, other_country):\n",
    "        new_name = self.name + ' ' + other_country.name\n",
    "        new_population = self.population + other_country.population\n",
    "        new_country = Country(new_name, new_population)\n",
    "        return new_country"
   ]
  },
  {
   "cell_type": "code",
   "execution_count": 6,
   "metadata": {},
   "outputs": [
    {
     "name": "stdout",
     "output_type": "stream",
     "text": [
      "Bosnia Herzegovina\n",
      "15000000\n"
     ]
    }
   ],
   "source": [
    "bosnia = Country('Bosnia', 10000000)\n",
    "herzegovina = Country('Herzegovina', 5000000)\n",
    "\n",
    "bosnia_herzegovina = bosnia + herzegovina\n",
    "\n",
    "print(bosnia_herzegovina.name)\n",
    "print(bosnia_herzegovina.population)"
   ]
  },
  {
   "cell_type": "code",
   "execution_count": null,
   "metadata": {},
   "outputs": [],
   "source": [
    "# Create a Car class with the following attributes: brand, model, year, and speed.\n",
    "# The Car class should have the following methods: accelerate, brake and display_speed.\n",
    "# The accelerate method should increase the speed by 5, and the brake method should decrease the speed by 5. \n",
    "# Remember that the speed cannot be negative."
   ]
  },
  {
   "cell_type": "code",
   "execution_count": 7,
   "metadata": {},
   "outputs": [],
   "source": [
    "class Car:\n",
    "    \n",
    "    def __init__(self, brand, model, year, speed):\n",
    "        self.brand = brand\n",
    "        self.model = model\n",
    "        self.year = year\n",
    "        self.speed = speed\n",
    "    \n",
    "    def accelerate(self):\n",
    "        self.speed += 5\n",
    "        \n",
    "    def brake(self):\n",
    "        if self.speed >= 5:\n",
    "            self.speed -= 5\n",
    "        else:\n",
    "            self.speed = 0\n",
    "        \n",
    "    def display_speed(self):\n",
    "        print('The current speed of the', self.brand, self.model, 'is', self.speed, 'km/h')"
   ]
  }
 ],
 "metadata": {
  "kernelspec": {
   "display_name": "Python 3",
   "language": "python",
   "name": "python3"
  },
  "language_info": {
   "codemirror_mode": {
    "name": "ipython",
    "version": 3
   },
   "file_extension": ".py",
   "mimetype": "text/x-python",
   "name": "python",
   "nbconvert_exporter": "python",
   "pygments_lexer": "ipython3",
   "version": "3.10.0"
  },
  "orig_nbformat": 4
 },
 "nbformat": 4,
 "nbformat_minor": 2
}
